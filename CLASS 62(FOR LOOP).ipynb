{
 "cells": [
  {
   "cell_type": "code",
   "execution_count": null,
   "id": "f25ed72e",
   "metadata": {},
   "outputs": [],
   "source": [
    "#FOR LOOP "
   ]
  },
  {
   "cell_type": "code",
   "execution_count": 5,
   "id": "13c3932d",
   "metadata": {},
   "outputs": [
    {
     "name": "stdout",
     "output_type": "stream",
     "text": [
      "hello world :1\n",
      "hello world :2\n",
      "hello world :3\n",
      "hello world :4\n",
      "hello world :5\n",
      "hello world :6\n",
      "hello world :7\n",
      "hello world :8\n",
      "hello world :9\n",
      "hello world :10\n"
     ]
    }
   ],
   "source": [
    "for i in range(1,11):\n",
    "    print(f\"hello world :{i}\")\n"
   ]
  },
  {
   "cell_type": "code",
   "execution_count": null,
   "id": "3fe18271",
   "metadata": {},
   "outputs": [],
   "source": []
  },
  {
   "cell_type": "code",
   "execution_count": null,
   "id": "22bb068e",
   "metadata": {},
   "outputs": [],
   "source": []
  },
  {
   "cell_type": "code",
   "execution_count": null,
   "id": "d41e4660",
   "metadata": {},
   "outputs": [],
   "source": []
  }
 ],
 "metadata": {
  "kernelspec": {
   "display_name": "Python 3 (ipykernel)",
   "language": "python",
   "name": "python3"
  },
  "language_info": {
   "codemirror_mode": {
    "name": "ipython",
    "version": 3
   },
   "file_extension": ".py",
   "mimetype": "text/x-python",
   "name": "python",
   "nbconvert_exporter": "python",
   "pygments_lexer": "ipython3",
   "version": "3.9.13"
  }
 },
 "nbformat": 4,
 "nbformat_minor": 5
}
