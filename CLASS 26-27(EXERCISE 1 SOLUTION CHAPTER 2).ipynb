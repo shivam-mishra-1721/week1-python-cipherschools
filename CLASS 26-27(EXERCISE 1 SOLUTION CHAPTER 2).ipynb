{
 "cells": [
  {
   "cell_type": "code",
   "execution_count": null,
   "id": "557d648b",
   "metadata": {},
   "outputs": [],
   "source": [
    "#CHAPTER 2 EXERCISE 1"
   ]
  },
  {
   "cell_type": "code",
   "execution_count": null,
   "id": "07a72aa2",
   "metadata": {},
   "outputs": [],
   "source": [
    "# ask user to input 3 numbers and you have to priny average of three numbers using string formatting\n"
   ]
  },
  {
   "cell_type": "code",
   "execution_count": 2,
   "id": "f480af3f",
   "metadata": {},
   "outputs": [
    {
     "name": "stdout",
     "output_type": "stream",
     "text": [
      "enter first number9\n",
      "enter Second number8\n",
      "enter third number0\n",
      "17\n"
     ]
    }
   ],
   "source": [
    "x=int(input(\"enter first number\"))\n",
    "y=int(input ( \"enter Second number\"))\n",
    "z=int(input(\"enter third number\"))\n",
    "avg=x+y+z/3\n",
    "print(int(avg))"
   ]
  },
  {
   "cell_type": "code",
   "execution_count": null,
   "id": "75cce2fb",
   "metadata": {},
   "outputs": [],
   "source": []
  },
  {
   "cell_type": "code",
   "execution_count": null,
   "id": "9c33a043",
   "metadata": {},
   "outputs": [],
   "source": []
  },
  {
   "cell_type": "code",
   "execution_count": null,
   "id": "506f4dcf",
   "metadata": {},
   "outputs": [],
   "source": []
  }
 ],
 "metadata": {
  "kernelspec": {
   "display_name": "Python 3 (ipykernel)",
   "language": "python",
   "name": "python3"
  },
  "language_info": {
   "codemirror_mode": {
    "name": "ipython",
    "version": 3
   },
   "file_extension": ".py",
   "mimetype": "text/x-python",
   "name": "python",
   "nbconvert_exporter": "python",
   "pygments_lexer": "ipython3",
   "version": "3.9.13"
  }
 },
 "nbformat": 4,
 "nbformat_minor": 5
}
