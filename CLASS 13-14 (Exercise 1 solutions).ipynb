{
 "cells": [
  {
   "cell_type": "code",
   "execution_count": null,
   "id": "fbe9039e",
   "metadata": {},
   "outputs": [],
   "source": [
    "#LECTURE 13 EXERCISE 1 "
   ]
  },
  {
   "cell_type": "code",
   "execution_count": 2,
   "id": "baf6e77d",
   "metadata": {},
   "outputs": [
    {
     "name": "stdout",
     "output_type": "stream",
     "text": [
      "this is \\\\ double backlash\n"
     ]
    }
   ],
   "source": [
    "#Q1 \n",
    "a=\"\\\\\\\\\"\n",
    "print(\"this is\",a,\"double backlash\")"
   ]
  },
  {
   "cell_type": "code",
   "execution_count": 5,
   "id": "4b2bbe7d",
   "metadata": {},
   "outputs": [
    {
     "name": "stdout",
     "output_type": "stream",
     "text": [
      "this is /\\/\\/\\/\\/\\ mountain\n"
     ]
    }
   ],
   "source": [
    "#Q2\n",
    "a=\"/\\\\/\\\\/\\\\/\\\\/\\\\\"\n",
    "print(\"this is\",a,\"mountain\")"
   ]
  },
  {
   "cell_type": "code",
   "execution_count": 8,
   "id": "d17028b7",
   "metadata": {},
   "outputs": [
    {
     "name": "stdout",
     "output_type": "stream",
     "text": [
      "he is \t awesome\n"
     ]
    }
   ],
   "source": [
    "#Q3\n",
    "print(\"he is \\t awesome\")"
   ]
  },
  {
   "cell_type": "code",
   "execution_count": 9,
   "id": "91020b81",
   "metadata": {},
   "outputs": [
    {
     "name": "stdout",
     "output_type": "stream",
     "text": [
      " \\\" \\n \\t \\' \n"
     ]
    }
   ],
   "source": [
    "#Q4\n",
    "print(\" \\\\\\\" \\\\n \\\\t \\\\\\' \")"
   ]
  },
  {
   "cell_type": "code",
   "execution_count": null,
   "id": "4c0ee2d9",
   "metadata": {},
   "outputs": [],
   "source": []
  },
  {
   "cell_type": "code",
   "execution_count": null,
   "id": "c8af8e3d",
   "metadata": {},
   "outputs": [],
   "source": []
  },
  {
   "cell_type": "code",
   "execution_count": null,
   "id": "9374eb81",
   "metadata": {},
   "outputs": [],
   "source": []
  },
  {
   "cell_type": "code",
   "execution_count": null,
   "id": "df091564",
   "metadata": {},
   "outputs": [],
   "source": []
  },
  {
   "cell_type": "code",
   "execution_count": null,
   "id": "f58b0e21",
   "metadata": {},
   "outputs": [],
   "source": []
  }
 ],
 "metadata": {
  "kernelspec": {
   "display_name": "Python 3 (ipykernel)",
   "language": "python",
   "name": "python3"
  },
  "language_info": {
   "codemirror_mode": {
    "name": "ipython",
    "version": 3
   },
   "file_extension": ".py",
   "mimetype": "text/x-python",
   "name": "python",
   "nbconvert_exporter": "python",
   "pygments_lexer": "ipython3",
   "version": "3.9.13"
  }
 },
 "nbformat": 4,
 "nbformat_minor": 5
}
