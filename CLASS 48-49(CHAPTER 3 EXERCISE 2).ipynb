{
 "cells": [
  {
   "cell_type": "code",
   "execution_count": null,
   "id": "c83cc753",
   "metadata": {},
   "outputs": [],
   "source": [
    "# EXERCISE WATCH COCO\n",
    "\n",
    "#Ask user's name and age\n",
    "\n",
    "# Print 'you can watch coco movie'\n",
    "\n",
    "# If user's name start with ('a' or 'A') and age is above 10 then\n",
    "\n",
    "# Else print 'sorry, you cannot watch coco'"
   ]
  },
  {
   "cell_type": "code",
   "execution_count": 5,
   "id": "271ccaed",
   "metadata": {},
   "outputs": [
    {
     "name": "stdout",
     "output_type": "stream",
     "text": [
      "enter your name:abhinav\n",
      "enter your age:20\n",
      "you can watch coco movie\n"
     ]
    }
   ],
   "source": [
    "name=input(\"enter your name:\")\n",
    "age=int(input(\"enter your age:\"))\n",
    "if age>=10 and name[0]==\"a\" or name[0]==\"A\":\n",
    "    print(\"you can watch coco movie\")\n",
    "else:\n",
    "    print(\"sorry you cannot watch coco\")"
   ]
  },
  {
   "cell_type": "code",
   "execution_count": 6,
   "id": "6288756c",
   "metadata": {},
   "outputs": [
    {
     "name": "stdout",
     "output_type": "stream",
     "text": [
      "enter your name:isha\n",
      "enter your age:7\n",
      "sorry you cannot watch coco\n"
     ]
    }
   ],
   "source": [
    "name=input(\"enter your name:\")\n",
    "age=int(input(\"enter your age:\"))\n",
    "if age>=10 and name[0]==\"a\" or name[0]==\"A\":\n",
    "    print(\"you can watch coco movie\")\n",
    "else:\n",
    "    print(\"sorry you cannot watch coco\")"
   ]
  },
  {
   "cell_type": "code",
   "execution_count": null,
   "id": "44fb36c1",
   "metadata": {},
   "outputs": [],
   "source": []
  },
  {
   "cell_type": "code",
   "execution_count": null,
   "id": "85e4fe1b",
   "metadata": {},
   "outputs": [],
   "source": []
  },
  {
   "cell_type": "code",
   "execution_count": null,
   "id": "5f68e1be",
   "metadata": {},
   "outputs": [],
   "source": []
  },
  {
   "cell_type": "code",
   "execution_count": null,
   "id": "e9721770",
   "metadata": {},
   "outputs": [],
   "source": []
  }
 ],
 "metadata": {
  "kernelspec": {
   "display_name": "Python 3 (ipykernel)",
   "language": "python",
   "name": "python3"
  },
  "language_info": {
   "codemirror_mode": {
    "name": "ipython",
    "version": 3
   },
   "file_extension": ".py",
   "mimetype": "text/x-python",
   "name": "python",
   "nbconvert_exporter": "python",
   "pygments_lexer": "ipython3",
   "version": "3.9.13"
  }
 },
 "nbformat": 4,
 "nbformat_minor": 5
}
