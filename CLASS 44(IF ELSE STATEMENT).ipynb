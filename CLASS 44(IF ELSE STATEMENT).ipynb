{
 "cells": [
  {
   "cell_type": "code",
   "execution_count": null,
   "id": "3b5f4f28",
   "metadata": {},
   "outputs": [],
   "source": [
    "#LECTURE 44 IF ELSE STATEMENNT"
   ]
  },
  {
   "cell_type": "code",
   "execution_count": 1,
   "id": "075c19e9",
   "metadata": {},
   "outputs": [
    {
     "name": "stdout",
     "output_type": "stream",
     "text": [
      "Enter your age: 12\n",
      "you are below 14\n"
     ]
    }
   ],
   "source": [
    "age=input(\"Enter your age: \")\n",
    "age=int(age) \n",
    "if age >= 14:\n",
    "    print(\"you are above 14\")\n",
    "else:\n",
    "    print(\"you are below 14\")"
   ]
  },
  {
   "cell_type": "code",
   "execution_count": null,
   "id": "8c8ac7cc",
   "metadata": {},
   "outputs": [],
   "source": []
  },
  {
   "cell_type": "code",
   "execution_count": null,
   "id": "02c6d25d",
   "metadata": {},
   "outputs": [],
   "source": []
  },
  {
   "cell_type": "code",
   "execution_count": null,
   "id": "072da7c2",
   "metadata": {},
   "outputs": [],
   "source": []
  }
 ],
 "metadata": {
  "kernelspec": {
   "display_name": "Python 3 (ipykernel)",
   "language": "python",
   "name": "python3"
  },
  "language_info": {
   "codemirror_mode": {
    "name": "ipython",
    "version": 3
   },
   "file_extension": ".py",
   "mimetype": "text/x-python",
   "name": "python",
   "nbconvert_exporter": "python",
   "pygments_lexer": "ipython3",
   "version": "3.9.13"
  }
 },
 "nbformat": 4,
 "nbformat_minor": 5
}
