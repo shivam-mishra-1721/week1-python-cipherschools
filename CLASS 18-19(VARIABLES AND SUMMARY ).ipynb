{
 "cells": [
  {
   "cell_type": "code",
   "execution_count": 3,
   "id": "54b296a9",
   "metadata": {},
   "outputs": [
    {
     "name": "stdout",
     "output_type": "stream",
     "text": [
      "2\n",
      "4\n"
     ]
    }
   ],
   "source": [
    "#LECTURE 18\n",
    "num1=2\n",
    "print(num1)\n",
    "num1=4\n",
    "print(num1)"
   ]
  },
  {
   "cell_type": "code",
   "execution_count": 4,
   "id": "2ad420a0",
   "metadata": {},
   "outputs": [
    {
     "name": "stdout",
     "output_type": "stream",
     "text": [
      "isha verma\n",
      "123\n"
     ]
    }
   ],
   "source": [
    "#we can store strings, number etc\n",
    "name=\"isha verma\"\n",
    "print(name)\n",
    "name = 123\n",
    "print(name)"
   ]
  },
  {
   "cell_type": "code",
   "execution_count": 6,
   "id": "3925be3b",
   "metadata": {},
   "outputs": [],
   "source": [
    "#s snake case writing\n",
    "user_one_name=\"isha\" \n",
    "# camel case writing(used in java mostly)\n",
    "userOneName=\"yatin\""
   ]
  },
  {
   "cell_type": "code",
   "execution_count": 18,
   "id": "f87e8ddc",
   "metadata": {},
   "outputs": [
    {
     "name": "stdout",
     "output_type": "stream",
     "text": [
      "hello world\n",
      "line a\n",
      " line b\n",
      "this is backlash\\\\\n",
      "line a \\n line b\n",
      "5\n",
      "-1\n",
      "6\n",
      "2.0\n",
      "2\n",
      "512\n",
      "10.0\n",
      "isha\n",
      "1234567\n"
     ]
    }
   ],
   "source": [
    "#SUMMARY OF CHAPTER 1\n",
    "#functions\n",
    "print(\"hello world\")\n",
    "#escape functions\n",
    "print(\"line a\\n line b\")\n",
    "print(\"this is backlash\\\\\\\\\")\n",
    "\n",
    "#escape sequence \n",
    "print(\"line a \\\\n line b\")\n",
    "\n",
    "# as a calulater\n",
    "print(2+3)\n",
    "print(2-3)\n",
    "print(2*3)\n",
    "print(4/2)\n",
    "print(4//2)\n",
    "print(2**3**2)\n",
    "print((2+3)*4/2)\n",
    "\n",
    "#variables\n",
    "name=\"isha\"\n",
    "print(name)\n",
    "num1=1234567\n",
    "print(num1)\n",
    "\n",
    "      "
   ]
  },
  {
   "cell_type": "code",
   "execution_count": null,
   "id": "913c154d",
   "metadata": {},
   "outputs": [],
   "source": []
  },
  {
   "cell_type": "code",
   "execution_count": null,
   "id": "98f87fd7",
   "metadata": {},
   "outputs": [],
   "source": []
  },
  {
   "cell_type": "code",
   "execution_count": null,
   "id": "e24dc0d2",
   "metadata": {},
   "outputs": [],
   "source": []
  },
  {
   "cell_type": "code",
   "execution_count": null,
   "id": "8ef74883",
   "metadata": {},
   "outputs": [],
   "source": []
  },
  {
   "cell_type": "code",
   "execution_count": null,
   "id": "18d88517",
   "metadata": {},
   "outputs": [],
   "source": []
  }
 ],
 "metadata": {
  "kernelspec": {
   "display_name": "Python 3 (ipykernel)",
   "language": "python",
   "name": "python3"
  },
  "language_info": {
   "codemirror_mode": {
    "name": "ipython",
    "version": 3
   },
   "file_extension": ".py",
   "mimetype": "text/x-python",
   "name": "python",
   "nbconvert_exporter": "python",
   "pygments_lexer": "ipython3",
   "version": "3.9.13"
  }
 },
 "nbformat": 4,
 "nbformat_minor": 5
}
