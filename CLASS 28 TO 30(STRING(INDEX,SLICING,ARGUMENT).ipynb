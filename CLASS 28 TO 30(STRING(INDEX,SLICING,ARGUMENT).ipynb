{
 "cells": [
  {
   "cell_type": "code",
   "execution_count": null,
   "id": "aab26c65",
   "metadata": {},
   "outputs": [],
   "source": [
    "#LECTURE 28 STRING INDEX"
   ]
  },
  {
   "cell_type": "code",
   "execution_count": 5,
   "id": "9534c894",
   "metadata": {},
   "outputs": [
    {
     "name": "stdout",
     "output_type": "stream",
     "text": [
      "t\n",
      "p\n"
     ]
    }
   ],
   "source": [
    "language=\"python\"\n",
    "#p=0,-6\n",
    "#y=1,-5\n",
    "#t=2,-4\n",
    "#h=3,-3\n",
    "#o=4,-2\n",
    "#n=5,-1\n",
    "print(language[2])\n",
    "print(language[-6])\n",
    "\n"
   ]
  },
  {
   "cell_type": "code",
   "execution_count": 4,
   "id": "2e4f1fa7",
   "metadata": {},
   "outputs": [
    {
     "name": "stdout",
     "output_type": "stream",
     "text": [
      "a\n"
     ]
    }
   ],
   "source": [
    "language=\"java\"\n",
    "print(language[3])\n"
   ]
  },
  {
   "cell_type": "code",
   "execution_count": 13,
   "id": "2243d2c3",
   "metadata": {},
   "outputs": [
    {
     "name": "stdout",
     "output_type": "stream",
     "text": [
      "p\n",
      "py\n",
      "pyt\n",
      "pyth\n",
      "pytho\n",
      "python\n",
      "th\n",
      "h\n",
      "hon\n",
      "python\n"
     ]
    }
   ],
   "source": [
    "#LECTURE 29 SILICING/ SLELCTING SUB SEQUENCES \n",
    "lang=\"python\"\n",
    "#print(lang[4])\n",
    "#synatx-[start argument :stop argument]\n",
    "print(lang[0])\n",
    "print(lang[0:2])\n",
    "print(lang[0:3])\n",
    "print(lang[0:4])\n",
    "print(lang[0:5])\n",
    "print(lang[0:6])\n",
    "print(lang[2:4])\n",
    "print(lang[3:4])\n",
    "print(lang[-3:6])\n",
    "print(lang[0:])\n"
   ]
  },
  {
   "cell_type": "code",
   "execution_count": 31,
   "id": "b57d970b",
   "metadata": {},
   "outputs": [
    {
     "name": "stdout",
     "output_type": "stream",
     "text": [
      "ha\n",
      "ishave\n",
      "ihv\n",
      "ihvra\n",
      "iar\n",
      "evahsi\n",
      "amrevahsi\n",
      "amrevahsi\n"
     ]
    }
   ],
   "source": [
    "#LECTURE 30 STEP ARGUMENT\n",
    "\n",
    "print(\"isha\"[2:4])\n",
    "print(\"ishaverma\"[0:6:1])\n",
    "print(\"ishaverma\"[0:6:2])\n",
    "print(\"ishaverma\"[0::2])\n",
    "print(\"ishaverma\"[0::3])\n",
    "print(\"ishaverma\"[5::-1])\n",
    "print(\"ishaverma\"[8::-1])\n",
    "print(\"ishaverma\"[-1::-1])"
   ]
  },
  {
   "cell_type": "code",
   "execution_count": null,
   "id": "a7653994",
   "metadata": {},
   "outputs": [],
   "source": []
  }
 ],
 "metadata": {
  "kernelspec": {
   "display_name": "Python 3 (ipykernel)",
   "language": "python",
   "name": "python3"
  },
  "language_info": {
   "codemirror_mode": {
    "name": "ipython",
    "version": 3
   },
   "file_extension": ".py",
   "mimetype": "text/x-python",
   "name": "python",
   "nbconvert_exporter": "python",
   "pygments_lexer": "ipython3",
   "version": "3.9.13"
  }
 },
 "nbformat": 4,
 "nbformat_minor": 5
}
