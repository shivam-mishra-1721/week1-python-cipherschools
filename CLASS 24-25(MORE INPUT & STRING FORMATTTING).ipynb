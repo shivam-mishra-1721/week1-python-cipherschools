{
 "cells": [
  {
   "cell_type": "code",
   "execution_count": null,
   "id": "bd0bb8e0",
   "metadata": {},
   "outputs": [],
   "source": [
    "#LECTURE 24 TWO OR MORE INPUT"
   ]
  },
  {
   "cell_type": "code",
   "execution_count": 2,
   "id": "428d5bb4",
   "metadata": {},
   "outputs": [
    {
     "name": "stdout",
     "output_type": "stream",
     "text": [
      "enter your name and age isha 18\n",
      "isha\n",
      "18\n"
     ]
    }
   ],
   "source": [
    "name,age=input(\"enter your name and age: \").split()\n",
    "print(name)\n",
    "print(age)"
   ]
  },
  {
   "cell_type": "code",
   "execution_count": null,
   "id": "0097745d",
   "metadata": {},
   "outputs": [],
   "source": [
    "#LECTURE 25 STRING FORMATTING\n"
   ]
  },
  {
   "cell_type": "code",
   "execution_count": 3,
   "id": "25b1ce99",
   "metadata": {},
   "outputs": [
    {
     "name": "stdout",
     "output_type": "stream",
     "text": [
      "hello isha your age is 18\n"
     ]
    }
   ],
   "source": [
    "#python 3\n",
    "name=\"isha\"\n",
    "age=18\n",
    "print(\"hello {} your age is {}\".format(name,age))"
   ]
  },
  {
   "cell_type": "code",
   "execution_count": 5,
   "id": "b4e264ed",
   "metadata": {},
   "outputs": [
    {
     "name": "stdout",
     "output_type": "stream",
     "text": [
      "hello isha your age is 18\n",
      "hello isha your age is 20\n"
     ]
    }
   ],
   "source": [
    "#python 3.6\n",
    "name=\"isha\"\n",
    "age=18\n",
    "print(f\"hello {name} your age is {age}\")\n",
    "print(f\"hello {name} your age is {age+2}\")"
   ]
  },
  {
   "cell_type": "code",
   "execution_count": null,
   "id": "12df3cb4",
   "metadata": {},
   "outputs": [],
   "source": []
  }
 ],
 "metadata": {
  "kernelspec": {
   "display_name": "Python 3 (ipykernel)",
   "language": "python",
   "name": "python3"
  },
  "language_info": {
   "codemirror_mode": {
    "name": "ipython",
    "version": 3
   },
   "file_extension": ".py",
   "mimetype": "text/x-python",
   "name": "python",
   "nbconvert_exporter": "python",
   "pygments_lexer": "ipython3",
   "version": "3.9.13"
  }
 },
 "nbformat": 4,
 "nbformat_minor": 5
}
