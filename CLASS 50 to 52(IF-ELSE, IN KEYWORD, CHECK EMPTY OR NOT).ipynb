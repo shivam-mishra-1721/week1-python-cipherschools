{
 "cells": [
  {
   "cell_type": "code",
   "execution_count": null,
   "id": "4cb278e6",
   "metadata": {},
   "outputs": [],
   "source": [
    "#LECTURE 50 IF-ELIF-ELSE"
   ]
  },
  {
   "cell_type": "code",
   "execution_count": 1,
   "id": "0681ad00",
   "metadata": {},
   "outputs": [
    {
     "name": "stdout",
     "output_type": "stream",
     "text": [
      "Enter your age:20\n",
      "Ticket price: 250\n"
     ]
    }
   ],
   "source": [
    "age=int(input(\"Enter your age:\"))\n",
    "if 0<age<=3:\n",
    "    print(\"Ticket price: FREE\")\n",
    "elif 3<age<=10:\n",
    "    print(\"Ticket price: 150\")\n",
    "elif 10<age<=60:\n",
    "    print(\"Ticket price: 250\")\n",
    "else:\n",
    "    print(\"Ticket price: 200\")\n",
    "    "
   ]
  },
  {
   "cell_type": "code",
   "execution_count": null,
   "id": "3dd73aa3",
   "metadata": {},
   "outputs": [],
   "source": [
    "#LECTURE 51 IN KEYWORD"
   ]
  },
  {
   "cell_type": "code",
   "execution_count": 2,
   "id": "dc8af3c8",
   "metadata": {},
   "outputs": [
    {
     "name": "stdout",
     "output_type": "stream",
     "text": [
      "a is present in name\n"
     ]
    }
   ],
   "source": [
    "name=\"isha\"\n",
    "if 'a' in name:\n",
    "    print(\"a is present in name\")\n",
    "else:\n",
    "    print(\"not present\")"
   ]
  },
  {
   "cell_type": "code",
   "execution_count": null,
   "id": "6b9ce5fc",
   "metadata": {},
   "outputs": [],
   "source": [
    "#LECTURE 52 CHECK EMPTY OR NOT"
   ]
  },
  {
   "cell_type": "code",
   "execution_count": 3,
   "id": "b5e44978",
   "metadata": {},
   "outputs": [
    {
     "name": "stdout",
     "output_type": "stream",
     "text": [
      "not empty\n"
     ]
    }
   ],
   "source": [
    "name=\"abc\"\n",
    "if name: # true if str is not empty\n",
    "    print(\"not empty\")\n",
    "else:\n",
    "    print(\"empty\")\n",
    "    "
   ]
  },
  {
   "cell_type": "code",
   "execution_count": null,
   "id": "f34f6d5d",
   "metadata": {},
   "outputs": [],
   "source": []
  },
  {
   "cell_type": "code",
   "execution_count": null,
   "id": "81ff91c8",
   "metadata": {},
   "outputs": [],
   "source": []
  }
 ],
 "metadata": {
  "kernelspec": {
   "display_name": "Python 3 (ipykernel)",
   "language": "python",
   "name": "python3"
  },
  "language_info": {
   "codemirror_mode": {
    "name": "ipython",
    "version": 3
   },
   "file_extension": ".py",
   "mimetype": "text/x-python",
   "name": "python",
   "nbconvert_exporter": "python",
   "pygments_lexer": "ipython3",
   "version": "3.9.13"
  }
 },
 "nbformat": 4,
 "nbformat_minor": 5
}
