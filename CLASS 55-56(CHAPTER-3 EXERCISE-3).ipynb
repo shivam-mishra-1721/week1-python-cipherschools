{
 "cells": [
  {
   "cell_type": "code",
   "execution_count": null,
   "id": "bb60b436",
   "metadata": {},
   "outputs": [],
   "source": [
    "#CHAPTER 3 EXERCISE 3"
   ]
  },
  {
   "cell_type": "code",
   "execution_count": null,
   "id": "12b2cc5b",
   "metadata": {},
   "outputs": [],
   "source": [
    "# exercise one of three\n",
    "\n",
    "# sum of n natural numbers\n",
    "\n",
    "# ask a user for natural number (n)\n",
    "\n",
    "# print total from 1 to n\n"
   ]
  },
  {
   "cell_type": "code",
   "execution_count": 1,
   "id": "034722f6",
   "metadata": {},
   "outputs": [
    {
     "name": "stdout",
     "output_type": "stream",
     "text": [
      "enter a number20\n",
      "210\n"
     ]
    }
   ],
   "source": [
    "n=int(input(\"enter a number\"))\n",
    "total=0\n",
    "i=1\n",
    "while i<=n:\n",
    "    total=total+i\n",
    "    i=i+1\n",
    "print(total)    "
   ]
  },
  {
   "cell_type": "code",
   "execution_count": null,
   "id": "5d102396",
   "metadata": {},
   "outputs": [],
   "source": []
  }
 ],
 "metadata": {
  "kernelspec": {
   "display_name": "Python 3 (ipykernel)",
   "language": "python",
   "name": "python3"
  },
  "language_info": {
   "codemirror_mode": {
    "name": "ipython",
    "version": 3
   },
   "file_extension": ".py",
   "mimetype": "text/x-python",
   "name": "python",
   "nbconvert_exporter": "python",
   "pygments_lexer": "ipython3",
   "version": "3.9.13"
  }
 },
 "nbformat": 4,
 "nbformat_minor": 5
}
