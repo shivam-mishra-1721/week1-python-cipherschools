{
 "cells": [
  {
   "cell_type": "code",
   "execution_count": null,
   "id": "5d873006",
   "metadata": {},
   "outputs": [],
   "source": []
  },
  {
   "cell_type": "code",
   "execution_count": null,
   "id": "89d05d89",
   "metadata": {},
   "outputs": [],
   "source": [
    "#lecture9 PRINT FUNCTION"
   ]
  },
  {
   "cell_type": "code",
   "execution_count": 2,
   "id": "d5f7a117",
   "metadata": {},
   "outputs": [
    {
     "name": "stdout",
     "output_type": "stream",
     "text": [
      "hello world\n",
      "hello 'world'world\n"
     ]
    }
   ],
   "source": [
    "print(\"hello world\")\n",
    "print(\"hello 'world' world\")"
   ]
  },
  {
   "cell_type": "code",
   "execution_count": null,
   "id": "04013e93",
   "metadata": {},
   "outputs": [],
   "source": [
    "#lecture 10 escape functions"
   ]
  },
  {
   "cell_type": "code",
   "execution_count": 14,
   "id": "caf0c837",
   "metadata": {},
   "outputs": [
    {
     "name": "stdout",
     "output_type": "stream",
     "text": [
      "hello \"world\"world\n",
      "line A\n",
      "line B\n",
      "name\tIsha\n",
      "this is backslash\\\\\n",
      "hell\blo\n"
     ]
    }
   ],
   "source": [
    "print(\"hello \\\"world\\\"world\")\n",
    "print(\"line A\\nline B\")\n",
    "print(\"name\\tIsha\")\n",
    "print(\"this is backslash\\\\\\\\\")\n",
    "print(\"hell\\blo\")"
   ]
  },
  {
   "cell_type": "code",
   "execution_count": null,
   "id": "66795714",
   "metadata": {},
   "outputs": [],
   "source": [
    "#leacture 11 comments in python\n",
    "print(\"line A\\nline B\") #n is used for new line\n"
   ]
  },
  {
   "cell_type": "code",
   "execution_count": 15,
   "id": "8d53d846",
   "metadata": {},
   "outputs": [
    {
     "name": "stdout",
     "output_type": "stream",
     "text": [
      "line A\\n line B\n",
      "line A \\t lineB\n",
      " this is backlash\\\\\\\\\n"
     ]
    }
   ],
   "source": [
    "#Lecture 12 escape sequences\n",
    "#output: line A\\n line B \n",
    "print(\"line A\\\\n line B\")\n",
    "print(\"line A \\\\t lineB\")\n",
    "print(\" this is backlash\\\\\\\\\\\\\\\\\")\n",
    "\n"
   ]
  },
  {
   "cell_type": "code",
   "execution_count": 16,
   "id": "9726d72b",
   "metadata": {},
   "outputs": [
    {
     "name": "stdout",
     "output_type": "stream",
     "text": [
      " \\\" \\'\n"
     ]
    }
   ],
   "source": [
    "#output:\\\" \\'\n",
    "print(\" \\\\\\\" \\\\\\'\")"
   ]
  },
  {
   "cell_type": "code",
   "execution_count": null,
   "id": "899255f7",
   "metadata": {},
   "outputs": [],
   "source": []
  }
 ],
 "metadata": {
  "kernelspec": {
   "display_name": "Python 3 (ipykernel)",
   "language": "python",
   "name": "python3"
  },
  "language_info": {
   "codemirror_mode": {
    "name": "ipython",
    "version": 3
   },
   "file_extension": ".py",
   "mimetype": "text/x-python",
   "name": "python",
   "nbconvert_exporter": "python",
   "pygments_lexer": "ipython3",
   "version": "3.9.13"
  }
 },
 "nbformat": 4,
 "nbformat_minor": 5
}
