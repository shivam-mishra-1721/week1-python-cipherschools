{
 "cells": [
  {
   "cell_type": "code",
   "execution_count": null,
   "id": "b8983dab",
   "metadata": {},
   "outputs": [],
   "source": [
    "#LECTURE 34 EXERCISE 3 CHAPTER 2"
   ]
  },
  {
   "cell_type": "markdown",
   "id": "db703808",
   "metadata": {},
   "source": []
  },
  {
   "cell_type": "code",
   "execution_count": 5,
   "id": "7eaaf956",
   "metadata": {},
   "outputs": [
    {
     "name": "stdout",
     "output_type": "stream",
     "text": [
      "enter coma separated name and char:isha,h\n",
      "length of string is 4\n",
      "count of characters is:1\n"
     ]
    }
   ],
   "source": [
    "name,char=input(\"enter coma separated name and char:\").split(\",\")\n",
    "print(f\"length of string is\",len(name))\n",
    "print(f\"count of characters is:{name.count(char)}\")\n"
   ]
  },
  {
   "cell_type": "code",
   "execution_count": 7,
   "id": "4cab83fd",
   "metadata": {},
   "outputs": [
    {
     "name": "stdout",
     "output_type": "stream",
     "text": [
      "enter coma separated name and char:isha,a\n",
      "length of string is 4\n",
      "count of characters is:1\n"
     ]
    }
   ],
   "source": [
    "name,char=input(\"enter coma separated name and char:\").split(\",\")\n",
    "print(f\"length of string is\",len(name))\n",
    "print(f\"count of characters is:{name.lower().count(char.lower())}\")"
   ]
  },
  {
   "cell_type": "code",
   "execution_count": null,
   "id": "cfc73320",
   "metadata": {},
   "outputs": [],
   "source": []
  },
  {
   "cell_type": "code",
   "execution_count": null,
   "id": "805dd7d2",
   "metadata": {},
   "outputs": [],
   "source": []
  },
  {
   "cell_type": "code",
   "execution_count": null,
   "id": "2dcfad8a",
   "metadata": {},
   "outputs": [],
   "source": []
  },
  {
   "cell_type": "code",
   "execution_count": null,
   "id": "b1546cf8",
   "metadata": {},
   "outputs": [],
   "source": []
  },
  {
   "cell_type": "code",
   "execution_count": null,
   "id": "9ec4e8b8",
   "metadata": {},
   "outputs": [],
   "source": []
  }
 ],
 "metadata": {
  "kernelspec": {
   "display_name": "Python 3 (ipykernel)",
   "language": "python",
   "name": "python3"
  },
  "language_info": {
   "codemirror_mode": {
    "name": "ipython",
    "version": 3
   },
   "file_extension": ".py",
   "mimetype": "text/x-python",
   "name": "python",
   "nbconvert_exporter": "python",
   "pygments_lexer": "ipython3",
   "version": "3.9.13"
  }
 },
 "nbformat": 4,
 "nbformat_minor": 5
}
