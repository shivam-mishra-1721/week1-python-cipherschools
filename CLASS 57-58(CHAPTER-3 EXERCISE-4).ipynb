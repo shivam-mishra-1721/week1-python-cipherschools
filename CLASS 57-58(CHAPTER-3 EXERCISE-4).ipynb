{
 "cells": [
  {
   "cell_type": "code",
   "execution_count": null,
   "id": "190bdb9c",
   "metadata": {},
   "outputs": [],
   "source": []
  },
  {
   "cell_type": "code",
   "execution_count": null,
   "id": "52730a02",
   "metadata": {},
   "outputs": [],
   "source": [
    "#problem\n",
    "\n",
    "# ask user to input a number containing more than one digit\n",
    "# example - 1256\n",
    "# calculate 1+2+5+6 and print\n",
    "# algorithm (method to solve problem in human language) 8 # ask input in string, i.e don't change string to int\n",
    "# examp - \"1256\"|\n",
    "# pick string character one by one and change to int\n",
    "# int(example[0]) + int(example [1]) .... go upto"
   ]
  },
  {
   "cell_type": "code",
   "execution_count": 3,
   "id": "6ff6790b",
   "metadata": {},
   "outputs": [
    {
     "name": "stdout",
     "output_type": "stream",
     "text": [
      "enter a number1234\n",
      "10\n"
     ]
    }
   ],
   "source": [
    "num=input(\"enter a number\")\n",
    "\n",
    "total=0\n",
    "i=0\n",
    "while i<len(num):\n",
    "    total += int(num[i])\n",
    "    i+=1\n",
    "print(total)    "
   ]
  },
  {
   "cell_type": "code",
   "execution_count": null,
   "id": "09578e36",
   "metadata": {},
   "outputs": [],
   "source": []
  },
  {
   "cell_type": "code",
   "execution_count": null,
   "id": "e519bb4a",
   "metadata": {},
   "outputs": [],
   "source": []
  }
 ],
 "metadata": {
  "kernelspec": {
   "display_name": "Python 3 (ipykernel)",
   "language": "python",
   "name": "python3"
  },
  "language_info": {
   "codemirror_mode": {
    "name": "ipython",
    "version": 3
   },
   "file_extension": ".py",
   "mimetype": "text/x-python",
   "name": "python",
   "nbconvert_exporter": "python",
   "pygments_lexer": "ipython3",
   "version": "3.9.13"
  }
 },
 "nbformat": 4,
 "nbformat_minor": 5
}
