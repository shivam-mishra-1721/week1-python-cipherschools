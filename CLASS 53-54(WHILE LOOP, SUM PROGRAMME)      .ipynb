{
 "cells": [
  {
   "cell_type": "code",
   "execution_count": null,
   "id": "7a1badaf",
   "metadata": {},
   "outputs": [],
   "source": [
    "#LECTURE 53 WHILE LOOP"
   ]
  },
  {
   "cell_type": "code",
   "execution_count": 5,
   "id": "211591bc",
   "metadata": {},
   "outputs": [
    {
     "name": "stdout",
     "output_type": "stream",
     "text": [
      "hello world\n",
      "hello world\n",
      "hello world\n",
      "hello world\n",
      "hello world\n",
      "hello world\n",
      "hello world\n",
      "hello world\n",
      "hello world\n",
      "hello world\n"
     ]
    }
   ],
   "source": [
    "i=1\n",
    "while i<=10:\n",
    "    print(\"hello world\")\n",
    "    i=i+1"
   ]
  },
  {
   "cell_type": "code",
   "execution_count": null,
   "id": "38566157",
   "metadata": {},
   "outputs": [],
   "source": [
    "#LECTURE 54 SUM OF NUMBER PROGRAM"
   ]
  },
  {
   "cell_type": "code",
   "execution_count": 6,
   "id": "045feb91",
   "metadata": {},
   "outputs": [
    {
     "name": "stdout",
     "output_type": "stream",
     "text": [
      "55\n"
     ]
    }
   ],
   "source": [
    "# SUM: 1 TO 10\n",
    "total=0\n",
    "i=1\n",
    "while i<=10:\n",
    "    total=total+i\n",
    "    i=i+1\n",
    "    #total 0+2+3+4+5+6+7+8+9+10\n",
    "print(total)    "
   ]
  }
 ],
 "metadata": {
  "kernelspec": {
   "display_name": "Python 3 (ipykernel)",
   "language": "python",
   "name": "python3"
  },
  "language_info": {
   "codemirror_mode": {
    "name": "ipython",
    "version": 3
   },
   "file_extension": ".py",
   "mimetype": "text/x-python",
   "name": "python",
   "nbconvert_exporter": "python",
   "pygments_lexer": "ipython3",
   "version": "3.9.13"
  }
 },
 "nbformat": 4,
 "nbformat_minor": 5
}
