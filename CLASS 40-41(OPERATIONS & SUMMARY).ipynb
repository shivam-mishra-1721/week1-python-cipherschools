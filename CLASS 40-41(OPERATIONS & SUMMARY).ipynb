{
 "cells": [
  {
   "cell_type": "code",
   "execution_count": null,
   "id": "9a970710",
   "metadata": {},
   "outputs": [],
   "source": [
    "#lecture 40 assignment operators"
   ]
  },
  {
   "cell_type": "code",
   "execution_count": 1,
   "id": "843686c6",
   "metadata": {},
   "outputs": [
    {
     "name": "stdout",
     "output_type": "stream",
     "text": [
      "ishaverma\n"
     ]
    }
   ],
   "source": [
    "name=\"isha\"\n",
    "name=name+\"verma\"\n",
    "print(name)"
   ]
  },
  {
   "cell_type": "code",
   "execution_count": 2,
   "id": "57c7f184",
   "metadata": {},
   "outputs": [
    {
     "name": "stdout",
     "output_type": "stream",
     "text": [
      "19\n"
     ]
    }
   ],
   "source": [
    "age=18\n",
    "age+=1\n",
    "print(age)"
   ]
  },
  {
   "cell_type": "code",
   "execution_count": null,
   "id": "04584757",
   "metadata": {},
   "outputs": [],
   "source": [
    "#lecture 41 summary of ch 2"
   ]
  },
  {
   "cell_type": "code",
   "execution_count": null,
   "id": "8955a28d",
   "metadata": {},
   "outputs": [],
   "source": [
    "#strings\n",
    "name=\"isha\"\n",
    "#string indexing\n",
    "print(name[1])\n",
    "#string slicing\n",
    "print(name[::-1])\n",
    "print(name[0:5:2])\n",
    "#take user input\n",
    "\n",
    "#age =input(\"enter your age:\")\n",
    "#print(age)\n",
    "#len fun\n",
    "print(len(name))\n",
    "#lower upper title\n",
    "print(name.lower())\n",
    "print(name.upper())\n",
    "print(name.title())\n",
    "#find method\n",
    "print(name.find(\"a\"))\n",
    "print(name.center(8,\"*\"))"
   ]
  }
 ],
 "metadata": {
  "kernelspec": {
   "display_name": "Python 3 (ipykernel)",
   "language": "python",
   "name": "python3"
  },
  "language_info": {
   "codemirror_mode": {
    "name": "ipython",
    "version": 3
   },
   "file_extension": ".py",
   "mimetype": "text/x-python",
   "name": "python",
   "nbconvert_exporter": "python",
   "pygments_lexer": "ipython3",
   "version": "3.9.13"
  }
 },
 "nbformat": 4,
 "nbformat_minor": 5
}
