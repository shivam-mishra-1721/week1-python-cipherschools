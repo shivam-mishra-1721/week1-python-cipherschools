{
 "cells": [
  {
   "cell_type": "code",
   "execution_count": 7,
   "id": "9f985342",
   "metadata": {},
   "outputs": [
    {
     "name": "stdout",
     "output_type": "stream",
     "text": [
      "Isha  verma\n",
      "Isha 3\n",
      "vermavermaverma\n"
     ]
    }
   ],
   "source": [
    "#STRINGS\n",
    "first_name=\"Isha \"\n",
    "last_name=\"verma\"\n",
    "full_name=first_name+\" \" +last_name\n",
    "print(full_name)\n",
    "#adding a number\n",
    "print(first_name+\"3\")\n",
    "print(last_name*3)"
   ]
  },
  {
   "cell_type": "code",
   "execution_count": 1,
   "id": "902f3563",
   "metadata": {},
   "outputs": [
    {
     "name": "stdout",
     "output_type": "stream",
     "text": [
      "enter your name:ISHA\n",
      "helloISHA\n"
     ]
    }
   ],
   "source": [
    "#user input\n",
    "name=input(\"enter your name:\")\n",
    "print(\"hello\"+name)\n",
    "\n"
   ]
  },
  {
   "cell_type": "code",
   "execution_count": 2,
   "id": "79a5411a",
   "metadata": {},
   "outputs": [
    {
     "name": "stdout",
     "output_type": "stream",
     "text": [
      "What is your age ?17\n",
      "your age is17\n"
     ]
    }
   ],
   "source": [
    "age=input(\"What is your age ?\")\n",
    "print(\"your age is\"+age)"
   ]
  },
  {
   "cell_type": "code",
   "execution_count": null,
   "id": "9b8f2fd8",
   "metadata": {},
   "outputs": [],
   "source": []
  },
  {
   "cell_type": "code",
   "execution_count": null,
   "id": "3e10758e",
   "metadata": {},
   "outputs": [],
   "source": []
  },
  {
   "cell_type": "code",
   "execution_count": null,
   "id": "7c4b0dff",
   "metadata": {},
   "outputs": [],
   "source": []
  },
  {
   "cell_type": "code",
   "execution_count": null,
   "id": "a2500b75",
   "metadata": {},
   "outputs": [],
   "source": []
  }
 ],
 "metadata": {
  "kernelspec": {
   "display_name": "Python 3 (ipykernel)",
   "language": "python",
   "name": "python3"
  },
  "language_info": {
   "codemirror_mode": {
    "name": "ipython",
    "version": 3
   },
   "file_extension": ".py",
   "mimetype": "text/x-python",
   "name": "python",
   "nbconvert_exporter": "python",
   "pygments_lexer": "ipython3",
   "version": "3.9.13"
  }
 },
 "nbformat": 4,
 "nbformat_minor": 5
}
