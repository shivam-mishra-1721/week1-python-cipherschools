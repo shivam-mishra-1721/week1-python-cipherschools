{
 "cells": [
  {
   "cell_type": "code",
   "execution_count": null,
   "id": "598f956b",
   "metadata": {},
   "outputs": [],
   "source": [
    "# Example - Harshit Vashisth\n",
    "# print count of each words\n",
    "# output:\n",
    "#H: 1\n",
    "#a: 2\n",
    "#r: 1\n",
    "#s: 3\n",
    "#h: 3\n",
    "#i: 2\n",
    "#t: 2\n",
    "# : 1\n",
    "#V: 1"
   ]
  },
  {
   "cell_type": "code",
   "execution_count": null,
   "id": "227cf304",
   "metadata": {},
   "outputs": [],
   "source": [
    "#harshit vashisth\n",
    "#name.count(\"h\"),name.count(name[0])\n",
    "#name.count(\"a\"),name.count(name[1])\n",
    "#name.count(\"r\"),name.count(name[2]) and soo on \n",
    "#output\n",
    "# h:2\n",
    "# a:2 amd sooo onn"
   ]
  },
  {
   "cell_type": "code",
   "execution_count": 2,
   "id": "79c2b81c",
   "metadata": {},
   "outputs": [
    {
     "name": "stdout",
     "output_type": "stream",
     "text": [
      "enter your nameisha\n",
      "i:1\n",
      "s:1\n",
      "h:1\n",
      "a:1\n"
     ]
    }
   ],
   "source": [
    "name=input(\"enter your name\")\n",
    "i=0 #index value\n",
    "while i<len(name):\n",
    "    print(f\"{name[i]}:{name.count(name[i])}\")\n",
    "    i+=1\n",
    "    "
   ]
  },
  {
   "cell_type": "code",
   "execution_count": 3,
   "id": "7f2d722b",
   "metadata": {},
   "outputs": [
    {
     "name": "stdout",
     "output_type": "stream",
     "text": [
      "enter your nameharshit\n",
      "h:2\n"
     ]
    }
   ],
   "source": [
    "name=input(\"enter your name\")\n",
    "i=0 #index value\n",
    "temp_var=\"\"\n",
    "while i<len(name):\n",
    "    if name[i] not in temp_var:\n",
    "        temp_var+=name\n",
    "        print(f\"{name[i]}:{name.count(name[i])}\")\n",
    "    i+=1\n",
    "    "
   ]
  }
 ],
 "metadata": {
  "kernelspec": {
   "display_name": "Python 3 (ipykernel)",
   "language": "python",
   "name": "python3"
  },
  "language_info": {
   "codemirror_mode": {
    "name": "ipython",
    "version": 3
   },
   "file_extension": ".py",
   "mimetype": "text/x-python",
   "name": "python",
   "nbconvert_exporter": "python",
   "pygments_lexer": "ipython3",
   "version": "3.9.13"
  }
 },
 "nbformat": 4,
 "nbformat_minor": 5
}
