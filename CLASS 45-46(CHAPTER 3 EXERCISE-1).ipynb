{
 "cells": [
  {
   "cell_type": "code",
   "execution_count": null,
   "id": "09fce41e",
   "metadata": {},
   "outputs": [],
   "source": [
    "#LECTURE 45 SOLUTION TO QUESTION\n",
    "# EXERCISE, NUMBER GUESSING GAME\n",
    "\n",
    "2 # Make a variable, like winning number and assign any number to it.\n",
    "\n",
    "3 #Ask user to guess a number.\n",
    "\n",
    "4# if user guessed correctly then print \"YOU WIN !!!!\"\n",
    "\n",
    "5# if user didn't guessed correctly then :\n",
    "\n",
    "# if user guessed lower than actual number then print \"too low\" # if user guessed higher than actual number then print \"too high\""
   ]
  },
  {
   "cell_type": "code",
   "execution_count": 4,
   "id": "abe70297",
   "metadata": {},
   "outputs": [
    {
     "name": "stdout",
     "output_type": "stream",
     "text": [
      "guess the number:150\n",
      "too high\n"
     ]
    }
   ],
   "source": [
    "winning_number=100\n",
    "guess_the_number=int(input(\"guess the number:\"))\n",
    "if guess_the_number==winning_number:\n",
    "    print(\"you won\")\n",
    "elif guess_the_number > winning_number:\n",
    "    print(\"too high\")\n",
    "else:\n",
    "    print(\"too low\")"
   ]
  },
  {
   "cell_type": "code",
   "execution_count": 5,
   "id": "cae49d55",
   "metadata": {},
   "outputs": [
    {
     "name": "stdout",
     "output_type": "stream",
     "text": [
      "guess the number:100\n",
      "you won\n"
     ]
    }
   ],
   "source": [
    "winning_number=100\n",
    "guess_the_number=int(input(\"guess the number:\"))\n",
    "if guess_the_number==winning_number:\n",
    "    print(\"you won\")\n",
    "elif guess_the_number > winning_number:\n",
    "    print(\"too high\")\n",
    "else:\n",
    "    print(\"too low\")"
   ]
  },
  {
   "cell_type": "code",
   "execution_count": 6,
   "id": "4d888a2e",
   "metadata": {},
   "outputs": [
    {
     "name": "stdout",
     "output_type": "stream",
     "text": [
      "guess the number:9\n",
      "too low\n"
     ]
    }
   ],
   "source": [
    "winning_number=100\n",
    "guess_the_number=int(input(\"guess the number:\"))\n",
    "if guess_the_number==winning_number:\n",
    "    print(\"you won\")\n",
    "elif guess_the_number > winning_number:\n",
    "    print(\"too high\")\n",
    "else:\n",
    "    print(\"too low\")"
   ]
  },
  {
   "cell_type": "code",
   "execution_count": null,
   "id": "016672cc",
   "metadata": {},
   "outputs": [],
   "source": []
  },
  {
   "cell_type": "code",
   "execution_count": null,
   "id": "c1753dcc",
   "metadata": {},
   "outputs": [],
   "source": []
  },
  {
   "cell_type": "code",
   "execution_count": null,
   "id": "de2f7d30",
   "metadata": {},
   "outputs": [],
   "source": []
  }
 ],
 "metadata": {
  "kernelspec": {
   "display_name": "Python 3 (ipykernel)",
   "language": "python",
   "name": "python3"
  },
  "language_info": {
   "codemirror_mode": {
    "name": "ipython",
    "version": 3
   },
   "file_extension": ".py",
   "mimetype": "text/x-python",
   "name": "python",
   "nbconvert_exporter": "python",
   "pygments_lexer": "ipython3",
   "version": "3.9.13"
  }
 },
 "nbformat": 4,
 "nbformat_minor": 5
}
