{
 "cells": [
  {
   "cell_type": "code",
   "execution_count": null,
   "id": "ba4c2025",
   "metadata": {},
   "outputs": [],
   "source": [
    "#lecture 22\n",
    "#int() function"
   ]
  },
  {
   "cell_type": "code",
   "execution_count": 2,
   "id": "1ae3840b",
   "metadata": {},
   "outputs": [
    {
     "name": "stdout",
     "output_type": "stream",
     "text": [
      "enter first number4\n",
      "enter second number4\n",
      "total is: 44\n"
     ]
    }
   ],
   "source": [
    "num1=input(\"enter first number\")\n",
    "num2=input(\"enter second number\")\n",
    "total=num1+num2\n",
    "print(\"total is:\", total)"
   ]
  },
  {
   "cell_type": "code",
   "execution_count": 3,
   "id": "e92159ff",
   "metadata": {},
   "outputs": [
    {
     "name": "stdout",
     "output_type": "stream",
     "text": [
      "enter first number4\n",
      "enter second number4\n",
      "total is: 8\n"
     ]
    }
   ],
   "source": [
    "num1=int(input(\"enter first number\"))\n",
    "num2=int(input(\"enter second number\"))\n",
    "total=num1+num2\n",
    "print(\"total is:\", total)"
   ]
  },
  {
   "cell_type": "code",
   "execution_count": null,
   "id": "7029fa0d",
   "metadata": {},
   "outputs": [],
   "source": [
    "#LECTURE 23"
   ]
  },
  {
   "cell_type": "code",
   "execution_count": 9,
   "id": "da4a73e3",
   "metadata": {},
   "outputs": [
    {
     "name": "stdout",
     "output_type": "stream",
     "text": [
      "hello Isha your age is 18 \n"
     ]
    }
   ],
   "source": [
    "name,age=\"Isha\" ,\"18 \"\n",
    "print(\"hello \"+ name+\" your age is \"+age)"
   ]
  }
 ],
 "metadata": {
  "kernelspec": {
   "display_name": "Python 3 (ipykernel)",
   "language": "python",
   "name": "python3"
  },
  "language_info": {
   "codemirror_mode": {
    "name": "ipython",
    "version": 3
   },
   "file_extension": ".py",
   "mimetype": "text/x-python",
   "name": "python",
   "nbconvert_exporter": "python",
   "pygments_lexer": "ipython3",
   "version": "3.9.13"
  }
 },
 "nbformat": 4,
 "nbformat_minor": 5
}
